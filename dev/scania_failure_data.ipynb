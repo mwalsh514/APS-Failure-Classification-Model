{
 "cells": [
  {
   "cell_type": "markdown",
   "id": "7d22027e",
   "metadata": {},
   "source": [
    "## **Data Source Summary**\n",
    "\n",
    "- ### **Name**: `APS Failure at Scania Trucks (Training and Test Sets)`\n",
    "\n",
    "- **Description**: The datasets' positive class consists of component failures for a specific component of the APS system. The negative class consists of trucks with failures for components not related to the APS.\n",
    "- **Source**: https://archive.ics.uci.edu/dataset/421/aps+failure+at+scania+trucks\n",
    "- **Files**: aps_failure_training_set.csv, aps_failure_test_set.csv, aps_failure_description.txt"
   ]
  },
  {
   "cell_type": "markdown",
   "id": "9b175876",
   "metadata": {},
   "source": [
    "## **Import Raw Data & Display Head Values**"
   ]
  },
  {
   "cell_type": "code",
   "execution_count": null,
   "id": "f289c830",
   "metadata": {},
   "outputs": [
    {
     "name": "stdout",
     "output_type": "stream",
     "text": [
      "  class  aa_000  ab_000        ac_000  ad_000  ae_000  af_000  ag_000  ag_001  \\\n",
      "0   neg   76698     NaN  2.130706e+09   280.0     0.0     0.0     0.0     0.0   \n",
      "1   neg   33058     NaN  0.000000e+00     NaN     0.0     0.0     0.0     0.0   \n",
      "2   neg   41040     NaN  2.280000e+02   100.0     0.0     0.0     0.0     0.0   \n",
      "3   neg      12     0.0  7.000000e+01    66.0     0.0    10.0     0.0     0.0   \n",
      "4   neg   60874     NaN  1.368000e+03   458.0     0.0     0.0     0.0     0.0   \n",
      "\n",
      "   ag_002  ...     ee_002    ee_003    ee_004    ee_005    ee_006    ee_007  \\\n",
      "0     0.0  ...  1240520.0  493384.0  721044.0  469792.0  339156.0  157956.0   \n",
      "1     0.0  ...   421400.0  178064.0  293306.0  245416.0  133654.0   81140.0   \n",
      "2     0.0  ...   277378.0  159812.0  423992.0  409564.0  320746.0  158022.0   \n",
      "3     0.0  ...      240.0      46.0      58.0      44.0      10.0       0.0   \n",
      "4     0.0  ...   622012.0  229790.0  405298.0  347188.0  286954.0  311560.0   \n",
      "\n",
      "     ee_008  ee_009  ef_000  eg_000  \n",
      "0   73224.0     0.0     0.0     0.0  \n",
      "1   97576.0  1500.0     0.0     0.0  \n",
      "2   95128.0   514.0     0.0     0.0  \n",
      "3       0.0     0.0     4.0    32.0  \n",
      "4  433954.0  1218.0     0.0     0.0  \n",
      "\n",
      "[5 rows x 171 columns]\n",
      "  class  aa_000  ab_000  ac_000  ad_000  ae_000  af_000  ag_000  ag_001  \\\n",
      "0   neg      60     0.0    20.0    12.0     0.0     0.0     0.0     0.0   \n",
      "1   neg      82     0.0    68.0    40.0     0.0     0.0     0.0     0.0   \n",
      "2   neg   66002     2.0   212.0   112.0     0.0     0.0     0.0     0.0   \n",
      "3   neg   59816     NaN  1010.0   936.0     0.0     0.0     0.0     0.0   \n",
      "4   neg    1814     NaN   156.0   140.0     0.0     0.0     0.0     0.0   \n",
      "\n",
      "   ag_002  ...    ee_002    ee_003    ee_004    ee_005     ee_006    ee_007  \\\n",
      "0     0.0  ...    1098.0     138.0     412.0     654.0       78.0      88.0   \n",
      "1     0.0  ...    1068.0     276.0    1620.0     116.0       86.0     462.0   \n",
      "2     0.0  ...  495076.0  380368.0  440134.0  269556.0  1315022.0  153680.0   \n",
      "3     0.0  ...  540820.0  243270.0  483302.0  485332.0   431376.0  210074.0   \n",
      "4     0.0  ...    7646.0    4144.0   18466.0   49782.0     3176.0     482.0   \n",
      "\n",
      "     ee_008  ee_009  ef_000  eg_000  \n",
      "0       0.0     0.0     0.0     0.0  \n",
      "1       0.0     0.0     0.0     0.0  \n",
      "2     516.0     0.0     0.0     0.0  \n",
      "3  281662.0  3232.0     0.0     0.0  \n",
      "4      76.0     0.0     0.0     0.0  \n",
      "\n",
      "[5 rows x 171 columns]\n"
     ]
    }
   ],
   "source": [
    "# setup\n",
    "import pandas as pd\n",
    "from pathlib import Path\n",
    "\n",
    "# locate and assign base directory\n",
    "base_dir = Path.cwd()\n",
    "\n",
    "# designate input paths\n",
    "raw_training_path = base_dir.parent / 'data' / 'aps_failure_training_set.csv'\n",
    "raw_test_path = base_dir.parent / 'data' / 'aps_failure_test_set.csv'\n",
    "\n",
    "# import both sets\n",
    "df_raw_training = pd.read_csv(raw_training_path, skiprows=20, na_values='na') # first 20 lines of both sets are not strictly comma-separated\n",
    "df_raw_test = pd.read_csv(raw_test_path, skiprows=20, na_values='na')\n",
    "\n",
    "# print both heads\n",
    "print(df_raw_training.head())\n",
    "print(df_raw_test.head())\n"
   ]
  }
 ],
 "metadata": {
  "kernelspec": {
   "display_name": ".venv",
   "language": "python",
   "name": "python3"
  },
  "language_info": {
   "codemirror_mode": {
    "name": "ipython",
    "version": 3
   },
   "file_extension": ".py",
   "mimetype": "text/x-python",
   "name": "python",
   "nbconvert_exporter": "python",
   "pygments_lexer": "ipython3",
   "version": "3.13.3"
  }
 },
 "nbformat": 4,
 "nbformat_minor": 5
}
