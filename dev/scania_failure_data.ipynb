{
 "cells": [
  {
   "cell_type": "markdown",
   "id": "7d22027e",
   "metadata": {},
   "source": [
    "## **Data Source Summary**\n",
    "\n",
    "- ### **Name**: `APS Failure at Scania Trucks`\n",
    "\n",
    "- The datasets' positive class consists of component failures for a specific component of the APS system. The negative class consists of trucks with failures for components not related to the APS.\n",
    "- **Source**: https://archive.ics.uci.edu/dataset/421/aps+failure+at+scania+trucks\n",
    "- **Files**: aps_failure_training_set.csv, aps_failure_test_set.csv, aps_failure_description.txt"
   ]
  },
  {
   "cell_type": "markdown",
   "id": "8c7bc9ea",
   "metadata": {},
   "source": [
    "## **Data Importation and Initial Clean & Imputation**"
   ]
  },
  {
   "cell_type": "markdown",
   "id": "c3ac7fcd",
   "metadata": {},
   "source": [
    "> ⚠️ **Warning**: The cell below will generate and save a cleaned dataset to `data/cleaned.csv`.\n",
    ">\n",
    "> By default, it won't run if the cleaned file already exists.  \n",
    "> Set `overwrite = True` in the code block to force regeneration.\n"
   ]
  },
  {
   "cell_type": "code",
   "execution_count": null,
   "id": "ce2abf5b",
   "metadata": {},
   "outputs": [
    {
     "name": "stdout",
     "output_type": "stream",
     "text": [
      "Cleaned data saved to c:\\Users\\mwals\\OneDrive\\Documents\\VScode\\Python\\Data Analysis Projects\\APS-Failure-Classification-Model\\data\\cleaned.csv\n"
     ]
    }
   ],
   "source": [
    "# Setup\n",
    "import pandas as pd\n",
    "from pathlib import Path\n",
    "from sklearn.impute import KNNImputer\n",
    "\n",
    "# Set path to original file and output file\n",
    "base_dir = Path.cwd()\n",
    "input_path = base_dir.parent / 'data' / 'aps_failure_training_set.csv'\n",
    "output_path = base_dir.parent / 'data' / 'cleaned.csv'\n",
    "\n",
    "# Optional: overwrite existing cleaned file\n",
    "overwrite = False  # Set to True if you want to reprocess and overwrite\n",
    "\n",
    "# Check for file existence; load & impute if necessary/desired\n",
    "if not output_path.exists() or overwrite:\n",
    "    print(\"Cleaning and saving the data...\")\n",
    "\n",
    "    # Load the data; skip first 20 rows; treat 'na' as NaN\n",
    "    df = pd.read_csv(input_path, skiprows=20, na_values='na')\n",
    "\n",
    "    # KNN Imputation\n",
    "    imputer = KNNImputer(n_neighbors=3) # Use 3 nearest neighbors \n",
    "    df_imputed = pd.DataFrame(imputer.fit_transform(df), columns=df.columns) # Perform imputation; keep column names\n",
    "\n",
    "    # Save cleaned file\n",
    "    df_imputed.to_csv(output_path, index=False)\n",
    "\n",
    "    print(f\"Cleaned data saved to: {output_path}\")\n",
    "else:\n",
    "    print(f\"Cleaned file already exists at: {output_path}\")\n",
    "    print(\"Set `overwrite = True` to regenerate it.\")"
   ]
  }
 ],
 "metadata": {
  "kernelspec": {
   "display_name": ".venv",
   "language": "python",
   "name": "python3"
  },
  "language_info": {
   "codemirror_mode": {
    "name": "ipython",
    "version": 3
   },
   "file_extension": ".py",
   "mimetype": "text/x-python",
   "name": "python",
   "nbconvert_exporter": "python",
   "pygments_lexer": "ipython3",
   "version": "3.13.3"
  }
 },
 "nbformat": 4,
 "nbformat_minor": 5
}
