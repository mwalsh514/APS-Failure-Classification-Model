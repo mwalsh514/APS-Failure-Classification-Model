{
 "cells": [
  {
   "cell_type": "markdown",
   "id": "4cdc41ad",
   "metadata": {},
   "source": [
    "Amazon Delivery Data - test"
   ]
  },
  {
   "cell_type": "code",
   "execution_count": null,
   "id": "b446c762",
   "metadata": {
    "vscode": {
     "languageId": "plaintext"
    }
   },
   "outputs": [],
   "source": []
  }
 ],
 "metadata": {
  "language_info": {
   "name": "python"
  }
 },
 "nbformat": 4,
 "nbformat_minor": 5
}
