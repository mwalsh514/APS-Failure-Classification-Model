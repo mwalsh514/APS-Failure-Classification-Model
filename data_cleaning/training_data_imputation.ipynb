{
 "cells": [
  {
   "cell_type": "markdown",
   "id": "f6084d2b",
   "metadata": {},
   "source": [
    "## **Data Source Summary**\n",
    "\n",
    "- ### **Name**: `APS Failure at Scania Trucks (Training Set)`\n",
    "\n",
    "- **Description**: The datasets' positive class consists of component failures for a specific component of the APS system. The negative class consists of trucks with failures for components not related to the APS.\n",
    "- **Source**: https://archive.ics.uci.edu/dataset/421/aps+failure+at+scania+trucks\n",
    "- **Files**: aps_failure_training_set.csv"
   ]
  },
  {
   "cell_type": "markdown",
   "id": "bb013e74",
   "metadata": {},
   "source": [
    "## **Data Importation and Initial Clean & Imputation**\n",
    "> ⚠️ **Warning**: The cell below will generate and save a cleaned dataset to `data/training_cleaned.csv`.\n",
    ">\n",
    "> By default, it won't run if the cleaned file already exists.  \n",
    "> Set `overwrite = True` in the code block to force regeneration."
   ]
  },
  {
   "cell_type": "code",
   "execution_count": null,
   "id": "13b7b159",
   "metadata": {},
   "outputs": [],
   "source": [
    "# Setup\n",
    "import pandas as pd\n",
    "from pathlib import Path\n",
    "from sklearn.impute import KNNImputer\n",
    "\n",
    "# Set path to original file and output file\n",
    "base_dir = Path.cwd()\n",
    "input_path = base_dir.parent / 'data' / 'aps_failure_training_set.csv'\n",
    "output_path = base_dir.parent / 'data' / 'training_cleaned.csv'\n",
    "\n",
    "# Optional: overwrite existing cleaned file\n",
    "overwrite = False  # Set to True if you want to reprocess and overwrite\n",
    "\n",
    "# Check for file existence; load & impute if necessary/desired\n",
    "if not output_path.exists() or overwrite:\n",
    "    print(\"Cleaning and saving the data...\")\n",
    "\n",
    "    # Load the data; skip first 20 rows; treat 'na' as NaN\n",
    "    df = pd.read_csv(input_path, skiprows=20, na_values='na')\n",
    "\n",
    "    # Separate the first column ('class')\n",
    "    first_col = df.iloc[:, 0]                   # Grab first column\n",
    "    features = df.iloc[:, 1:]                   # All columns except the first\n",
    "\n",
    "    # Perform KNN imputation on the feature set\n",
    "    imputer = KNNImputer(n_neighbors=3)\n",
    "    features_imputed = pd.DataFrame(imputer.fit_transform(features), columns=features.columns)\n",
    "\n",
    "    # Recombine the first column and the imputed features set\n",
    "    df_imputed = pd.concat([first_col.reset_index(drop=True), features_imputed], axis=1)\n",
    "\n",
    "    # Save cleaned file\n",
    "    df_imputed.to_csv(output_path, index=False)\n",
    "\n",
    "    print(f\"Cleaned data saved to: {output_path}\")\n",
    "else:\n",
    "    print(f\"Cleaned file already exists at: {output_path}\")\n",
    "    print(\"Set `overwrite = True` to regenerate it.\")"
   ]
  }
 ],
 "metadata": {
  "language_info": {
   "name": "python"
  }
 },
 "nbformat": 4,
 "nbformat_minor": 5
}
