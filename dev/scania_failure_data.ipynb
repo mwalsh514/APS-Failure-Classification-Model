{
 "cells": [
  {
   "cell_type": "markdown",
   "id": "7d22027e",
   "metadata": {},
   "source": [
    "## **Data Source Summary**\n",
    "\n",
    "- ### Name: APS Failure at Scania Trucks\n",
    "\n",
    "- #### Description: The datasets' positive class consists of component failures for a specific component of the APS system. The negative class consists of trucks with failures for components not related to the APS.\n",
    "\n",
    "- ### Source: https://archive.ics.uci.edu/dataset/421/aps+failure+at+scania+trucks\n",
    "\n",
    "- ### Files: aps_failure_training_set.csv, aps_failure_test_set.csv, aps_failure_description.txt"
   ]
  },
  {
   "cell_type": "markdown",
   "id": "8c7bc9ea",
   "metadata": {},
   "source": [
    "## **Data Importation and Initial Clean**"
   ]
  },
  {
   "cell_type": "code",
   "execution_count": null,
   "id": "4dfa6af7",
   "metadata": {
    "vscode": {
     "languageId": "plaintext"
    }
   },
   "outputs": [],
   "source": []
  }
 ],
 "metadata": {
  "language_info": {
   "name": "python"
  }
 },
 "nbformat": 4,
 "nbformat_minor": 5
}
