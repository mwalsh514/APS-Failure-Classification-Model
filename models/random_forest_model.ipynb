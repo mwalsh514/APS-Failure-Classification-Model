{
 "cells": [
  {
   "cell_type": "markdown",
   "id": "794a3374",
   "metadata": {},
   "source": [
    "# **Random Forest Classifier Model**\n",
    "\n",
    "## **Initializing the Model**\n",
    "`Run the cell below to initialize model and access evaluations.`"
   ]
  },
  {
   "cell_type": "code",
   "execution_count": 1,
   "id": "6cb53997",
   "metadata": {},
   "outputs": [],
   "source": [
    "# setup\n",
    "from pathlib import Path\n",
    "from sklearn.ensemble import RandomForestClassifier\n",
    "import pandas as pd\n",
    "\n",
    "# find base directory and data files\n",
    "base_dir = Path.cwd()\n",
    "training_data_path = base_dir.parent / 'data' / 'training_cleaned.csv'\n",
    "test_data_path = base_dir.parent / 'data' / 'test_cleaned.csv'\n",
    "\n",
    "# load data\n",
    "df_training = pd.read_csv(training_data_path)\n",
    "df_test = pd.read_csv(test_data_path)\n",
    "\n",
    "# assign training features and target\n",
    "X_training = df_training.drop(columns = ['class'])\n",
    "y_training = df_training['class']\n",
    "\n",
    "# assign testing features and target\n",
    "X_test = df_test.drop(columns=['class'])\n",
    "y_test = df_test['class']\n",
    "\n",
    "# intialize model\n",
    "model = RandomForestClassifier(n_estimators=100, random_state=17)"
   ]
  },
  {
   "cell_type": "markdown",
   "id": "3c1064f3",
   "metadata": {},
   "source": [
    "## **Training and Saving the Model**\n",
    "> ⚠️ **Warning**: The cell below will train and save a Random Forest Classifier model to `saved_models/random_forest_model.pkl`.\n",
    ">\n",
    "> By default, it won't run if the model's file already exists.  \n",
    "> Set `overwrite = True` in the code block to force regeneration."
   ]
  },
  {
   "cell_type": "code",
   "execution_count": null,
   "id": "a2227d9d",
   "metadata": {},
   "outputs": [
    {
     "name": "stdout",
     "output_type": "stream",
     "text": [
      "Saved model already exists at: c:\\Users\\mwals\\OneDrive\\Documents\\VScode\\Python\\Data Analysis Projects\\APS-Failure-Classification-Model\\models_saved\\random_forest_model.pkl\n",
      "Set `overwrite = True` to re-train it.\n"
     ]
    }
   ],
   "source": [
    "# setup\n",
    "import joblib\n",
    "\n",
    "# designate base directory and output path\n",
    "base_dir = Path.cwd()\n",
    "output_path = base_dir.parent / 'models_saved' / 'random_forest_model.pkl'\n",
    "\n",
    "# optional: overwrite existing model file\n",
    "overwrite = False  # set to True if you want to reprocess and overwrite\n",
    "\n",
    "# check for file existence; train model if necessary/desired\n",
    "if not output_path.exists() or overwrite: \n",
    "    print(\"Training and saving the model...\")\n",
    "\n",
    "    # train the model\n",
    "    model.fit(X_training, y_training)\n",
    "\n",
    "    # save the model\n",
    "    joblib.dump(model, output_path)\n",
    "\n",
    "    print(f\"Model trained and saved to: {output_path}\")\n",
    "else:\n",
    "    print(f\"Saved model already exists at: {output_path}\")\n",
    "    print(\"Set `overwrite = True` to re-train it.\")\n",
    "\n"
   ]
  },
  {
   "cell_type": "markdown",
   "id": "80c3a397",
   "metadata": {},
   "source": [
    "# **Evaluating the Model**\n",
    "\n",
    "## **"
   ]
  },
  {
   "cell_type": "code",
   "execution_count": 7,
   "id": "e2110a80",
   "metadata": {},
   "outputs": [
    {
     "name": "stdout",
     "output_type": "stream",
     "text": [
      "Accuracy: 0.9919375\n",
      "\n",
      "Classification Report: \n",
      "\n",
      "              precision    recall  f1-score   support\n",
      "\n",
      "         neg       0.99      1.00      1.00     15625\n",
      "         pos       0.94      0.70      0.80       375\n",
      "\n",
      "    accuracy                           0.99     16000\n",
      "   macro avg       0.96      0.85      0.90     16000\n",
      "weighted avg       0.99      0.99      0.99     16000\n",
      "\n",
      "\n"
     ]
    },
    {
     "data": {
      "image/png": "[encoded data removed]",
      "text/plain": [
       "<Figure size 640x480 with 2 Axes>"
      ]
     },
     "metadata": {},
     "output_type": "display_data"
    }
   ],
   "source": [
    "# setup\n",
    "from sklearn.metrics import accuracy_score, confusion_matrix, f1_score, classification_report\n",
    "import joblib\n",
    "import seaborn as sns\n",
    "import matplotlib.pyplot as plt\n",
    "import numpy as np\n",
    "\n",
    "# designate base directory and model path\n",
    "base_dir = Path.cwd()\n",
    "model_path = base_dir.parent / 'models_saved' / 'random_forest_model.pkl'\n",
    "\n",
    "# load model\n",
    "model = joblib.load(model_path)\n",
    "\n",
    "# make predictions\n",
    "y_prediction = model.predict(X_test)\n",
    "\n",
    "#-----evaluate model-----#\n",
    "# accuracy score\n",
    "accuracy = accuracy_score(y_test, y_prediction)\n",
    "print(f\"Accuracy: {accuracy}\\n\")\n",
    "\n",
    "# classification report\n",
    "report = classification_report(y_test, y_prediction)\n",
    "print(f\"Classification Report: \\n\\n{report}\\n\")\n",
    "\n",
    "# confusion matrix\n",
    "cm = confusion_matrix(y_test, y_prediction)\n",
    "\n",
    "group_names = ['True Neg','False Pos','False Neg','True Pos']\n",
    "group_counts = [f\"{value}\" for value in cm.flatten()]\n",
    "labels = [f\"{name}\\n{count}\" for name, count in zip(group_names, group_counts)]\n",
    "labels = np.asarray(labels).reshape(cm.shape)\n",
    "\n",
    "sns.heatmap(cm, annot=labels, fmt='', cmap='coolwarm')\n",
    "\n",
    "plt.xlabel('Predicted Labels')\n",
    "plt.ylabel('True Labels')\n",
    "plt.title('Confusion Matrix')\n",
    "plt.show()"
   ]
  }
 ],
 "metadata": {
  "kernelspec": {
   "display_name": ".venv",
   "language": "python",
   "name": "python3"
  },
  "language_info": {
   "codemirror_mode": {
    "name": "ipython",
    "version": 3
   },
   "file_extension": ".py",
   "mimetype": "text/x-python",
   "name": "python",
   "nbconvert_exporter": "python",
   "pygments_lexer": "ipython3",
   "version": "3.13.3"
  }
 },
 "nbformat": 4,
 "nbformat_minor": 5
}
