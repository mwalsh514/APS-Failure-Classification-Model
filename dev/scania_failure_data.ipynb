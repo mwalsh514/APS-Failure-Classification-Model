{
 "cells": [
  {
   "cell_type": "markdown",
   "id": "7d22027e",
   "metadata": {},
   "source": [
    "## **Data Source Summary**\n",
    "\n",
    "- ### Name: APS Failure at Scania Trucks\n",
    "\n",
    "- #### Description: The datasets' positive class consists of component failures for a specific component of the APS system. The negative class consists of trucks with failures for components not related to the APS.\n",
    "\n",
    "- ### Source: https://archive.ics.uci.edu/dataset/421/aps+failure+at+scania+trucks\n",
    "\n",
    "- ### Files: aps_failure_training_set.csv, aps_failure_test_set.csv, aps_failure_description.txt"
   ]
  },
  {
   "cell_type": "markdown",
   "id": "8c7bc9ea",
   "metadata": {},
   "source": [
    "## **Data Importation and Initial Clean**"
   ]
  },
  {
   "cell_type": "code",
   "execution_count": null,
   "id": "ce2abf5b",
   "metadata": {},
   "outputs": [],
   "source": [
    "# setup\n",
    "import pandas as pd\n",
    "# read csv\n",
    "df = pd.read_csv(\"C:/Users/bianc/.vscode/KaggleProjects/amazon-delivery/data/aps_failure_training_set.csv\", skiprows=20, na_values=\"na\")\n"
   ]
  },
  {
   "cell_type": "code",
   "execution_count": 50,
   "id": "98da044a",
   "metadata": {},
   "outputs": [],
   "source": [
    "df.head()"
   ]
  },
  {
   "cell_type": "code",
   "execution_count": null,
   "metadata": {},
   "outputs": [],
   "source": []
  }
 ],
 "metadata": {
  "kernelspec": {
   "display_name": "venv",
   "language": "python",
   "name": "python3"
  },
  "language_info": {
   "codemirror_mode": {
    "name": "ipython",
    "version": 3
   },
   "file_extension": ".py",
   "mimetype": "text/x-python",
   "name": "python",
   "nbconvert_exporter": "python",
   "pygments_lexer": "ipython3",
   "version": "3.11.9"
  }
 },
 "nbformat": 4,
 "nbformat_minor": 5
}
