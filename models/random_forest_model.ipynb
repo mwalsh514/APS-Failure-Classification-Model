{
 "cells": [
  {
   "cell_type": "markdown",
   "id": "794a3374",
   "metadata": {},
   "source": [
    "## **Random Forest Classifier Model**"
   ]
  },
  {
   "cell_type": "code",
   "execution_count": null,
   "id": "6cb53997",
   "metadata": {},
   "outputs": [],
   "source": [
    "# setup\n",
    "from pathlib import Path\n",
    "from sklearn.ensemble import RandomForestClassifier\n",
    "import pandas as pd\n",
    "\n",
    "# \n",
    "\n",
    "\n"
   ]
  }
 ],
 "metadata": {
  "language_info": {
   "name": "python"
  }
 },
 "nbformat": 4,
 "nbformat_minor": 5
}
