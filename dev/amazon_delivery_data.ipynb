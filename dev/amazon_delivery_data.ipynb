{
 "cells": [
  {
   "cell_type": "markdown",
   "id": "16c0a31b",
   "metadata": {},
   "source": [
    "Data Cleanup and Manipulation\n",
    "\n",
    "    Amazon Delivery Data\n",
    "\n",
    "        Website Data on: https://www.kaggle.com/datasets/sujalsuthar/amazon-delivery-dataset \n",
    "\n",
    "        This Amazon Delivery Dataset provides a comprehensive view of the company's last-mile logistics operations. It includes data on over 43,632 deliveries across multiple cities, with detailed information on order details, delivery agents, weather and traffic conditions, and delivery performance metrics."
   ]
  },
  {
   "cell_type": "code",
   "execution_count": null,
   "id": "66a784aa",
   "metadata": {
    "vscode": {
     "languageId": "plaintext"
    }
   },
   "outputs": [],
   "source": []
  }
 ],
 "metadata": {
  "language_info": {
   "name": "python"
  }
 },
 "nbformat": 4,
 "nbformat_minor": 5
}
